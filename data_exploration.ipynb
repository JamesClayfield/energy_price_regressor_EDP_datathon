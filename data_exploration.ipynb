{
 "cells": [
  {
   "cell_type": "code",
   "execution_count": 14,
   "metadata": {},
   "outputs": [],
   "source": [
    "import pandas as p\n",
    "import plotly.express as px\n",
    "import matplotlib as plt"
   ]
  },
  {
   "cell_type": "markdown",
   "metadata": {},
   "source": [
    "## Balancing Data Exploration"
   ]
  },
  {
   "cell_type": "code",
   "execution_count": 15,
   "metadata": {},
   "outputs": [
    {
     "data": {
      "text/html": [
       "<div>\n",
       "<style scoped>\n",
       "    .dataframe tbody tr th:only-of-type {\n",
       "        vertical-align: middle;\n",
       "    }\n",
       "\n",
       "    .dataframe tbody tr th {\n",
       "        vertical-align: top;\n",
       "    }\n",
       "\n",
       "    .dataframe thead th {\n",
       "        text-align: right;\n",
       "    }\n",
       "</style>\n",
       "<table border=\"1\" class=\"dataframe\">\n",
       "  <thead>\n",
       "    <tr style=\"text-align: right;\">\n",
       "      <th></th>\n",
       "      <th>GMT Time</th>\n",
       "      <th>System Price (ESO Outturn) - GB (£/MWh)</th>\n",
       "      <th>NIV Outturn (+ve long) - GB (MW)</th>\n",
       "      <th>BM Bid Acceptances (total) - GB (MW)</th>\n",
       "      <th>BM Offer Acceptances (total) - GB (MW)</th>\n",
       "      <th>Total BSAD Volume - Turn Up - GB (MW)</th>\n",
       "      <th>Total BSAD Volume - Turn Down - GB (MW)</th>\n",
       "      <th>Total BSAD Volume - Total - GB (MW)</th>\n",
       "      <th>Intraday Volume (EPEX Outturn, APX, MID) - GB (MWh)</th>\n",
       "    </tr>\n",
       "  </thead>\n",
       "  <tbody>\n",
       "    <tr>\n",
       "      <th>0</th>\n",
       "      <td>2018-01-01T00:00:00</td>\n",
       "      <td>55.94</td>\n",
       "      <td>-77.05</td>\n",
       "      <td>-1833.86</td>\n",
       "      <td>1910.98</td>\n",
       "      <td>1104</td>\n",
       "      <td>-900</td>\n",
       "      <td>204</td>\n",
       "      <td>781.35</td>\n",
       "    </tr>\n",
       "    <tr>\n",
       "      <th>1</th>\n",
       "      <td>2018-01-01T00:30:00</td>\n",
       "      <td>55.94</td>\n",
       "      <td>-334.76</td>\n",
       "      <td>-1443.78</td>\n",
       "      <td>1778.09</td>\n",
       "      <td>1104</td>\n",
       "      <td>-900</td>\n",
       "      <td>204</td>\n",
       "      <td>655.4</td>\n",
       "    </tr>\n",
       "    <tr>\n",
       "      <th>2</th>\n",
       "      <td>2018-01-01T01:00:00</td>\n",
       "      <td>62.94</td>\n",
       "      <td>-219.78</td>\n",
       "      <td>-1580.12</td>\n",
       "      <td>1799.9</td>\n",
       "      <td>1104</td>\n",
       "      <td>-900</td>\n",
       "      <td>204</td>\n",
       "      <td>821.5</td>\n",
       "    </tr>\n",
       "    <tr>\n",
       "      <th>3</th>\n",
       "      <td>2018-01-01T01:30:00</td>\n",
       "      <td>31</td>\n",
       "      <td>286.63</td>\n",
       "      <td>-1699.05</td>\n",
       "      <td>1413.04</td>\n",
       "      <td>1104</td>\n",
       "      <td>-900</td>\n",
       "      <td>204</td>\n",
       "      <td>815.2</td>\n",
       "    </tr>\n",
       "    <tr>\n",
       "      <th>4</th>\n",
       "      <td>2018-01-01T02:00:00</td>\n",
       "      <td>60.81</td>\n",
       "      <td>-141.41</td>\n",
       "      <td>-1413.27</td>\n",
       "      <td>1554.31</td>\n",
       "      <td>1104</td>\n",
       "      <td>-1050</td>\n",
       "      <td>54</td>\n",
       "      <td>709.05</td>\n",
       "    </tr>\n",
       "  </tbody>\n",
       "</table>\n",
       "</div>"
      ],
      "text/plain": [
       "              GMT Time System Price (ESO Outturn) - GB (£/MWh)  \\\n",
       "0  2018-01-01T00:00:00                                   55.94   \n",
       "1  2018-01-01T00:30:00                                   55.94   \n",
       "2  2018-01-01T01:00:00                                   62.94   \n",
       "3  2018-01-01T01:30:00                                      31   \n",
       "4  2018-01-01T02:00:00                                   60.81   \n",
       "\n",
       "   NIV Outturn (+ve long) - GB (MW) BM Bid Acceptances (total) - GB (MW)  \\\n",
       "0                            -77.05                             -1833.86   \n",
       "1                           -334.76                             -1443.78   \n",
       "2                           -219.78                             -1580.12   \n",
       "3                            286.63                             -1699.05   \n",
       "4                           -141.41                             -1413.27   \n",
       "\n",
       "  BM Offer Acceptances (total) - GB (MW)  \\\n",
       "0                                1910.98   \n",
       "1                                1778.09   \n",
       "2                                 1799.9   \n",
       "3                                1413.04   \n",
       "4                                1554.31   \n",
       "\n",
       "  Total BSAD Volume - Turn Up - GB (MW)  \\\n",
       "0                                  1104   \n",
       "1                                  1104   \n",
       "2                                  1104   \n",
       "3                                  1104   \n",
       "4                                  1104   \n",
       "\n",
       "  Total BSAD Volume - Turn Down - GB (MW) Total BSAD Volume - Total - GB (MW)  \\\n",
       "0                                    -900                                 204   \n",
       "1                                    -900                                 204   \n",
       "2                                    -900                                 204   \n",
       "3                                    -900                                 204   \n",
       "4                                   -1050                                  54   \n",
       "\n",
       "  Intraday Volume (EPEX Outturn, APX, MID) - GB (MWh)  \n",
       "0                                             781.35   \n",
       "1                                              655.4   \n",
       "2                                              821.5   \n",
       "3                                              815.2   \n",
       "4                                             709.05   "
      ]
     },
     "execution_count": 15,
     "metadata": {},
     "output_type": "execute_result"
    }
   ],
   "source": [
    "bal_data = pd.read_csv('data/balancing_data.csv')\n",
    "bal_data.head()"
   ]
  },
  {
   "cell_type": "code",
   "execution_count": 16,
   "metadata": {},
   "outputs": [
    {
     "data": {
      "text/plain": [
       "118320"
      ]
     },
     "execution_count": 16,
     "metadata": {},
     "output_type": "execute_result"
    }
   ],
   "source": [
    "len(bal_data)"
   ]
  },
  {
   "cell_type": "code",
   "execution_count": 17,
   "metadata": {},
   "outputs": [
    {
     "data": {
      "text/html": [
       "<div>\n",
       "<style scoped>\n",
       "    .dataframe tbody tr th:only-of-type {\n",
       "        vertical-align: middle;\n",
       "    }\n",
       "\n",
       "    .dataframe tbody tr th {\n",
       "        vertical-align: top;\n",
       "    }\n",
       "\n",
       "    .dataframe thead th {\n",
       "        text-align: right;\n",
       "    }\n",
       "</style>\n",
       "<table border=\"1\" class=\"dataframe\">\n",
       "  <thead>\n",
       "    <tr style=\"text-align: right;\">\n",
       "      <th></th>\n",
       "      <th>GMT Time</th>\n",
       "      <th>Loss of Load Probability - Latest - GB ()</th>\n",
       "      <th>Actual Total Load - GB (MW)</th>\n",
       "      <th>Demand Outturn (ITSDO) - GB (MW)</th>\n",
       "    </tr>\n",
       "  </thead>\n",
       "  <tbody>\n",
       "    <tr>\n",
       "      <th>0</th>\n",
       "      <td>2018-01-01T00:00:00</td>\n",
       "      <td>0</td>\n",
       "      <td>30303</td>\n",
       "      <td>26413</td>\n",
       "    </tr>\n",
       "    <tr>\n",
       "      <th>1</th>\n",
       "      <td>2018-01-01T00:30:00</td>\n",
       "      <td>0</td>\n",
       "      <td>31096</td>\n",
       "      <td>27130</td>\n",
       "    </tr>\n",
       "    <tr>\n",
       "      <th>2</th>\n",
       "      <td>2018-01-01T01:00:00</td>\n",
       "      <td>0</td>\n",
       "      <td>30599</td>\n",
       "      <td>27378</td>\n",
       "    </tr>\n",
       "    <tr>\n",
       "      <th>3</th>\n",
       "      <td>2018-01-01T01:30:00</td>\n",
       "      <td>0</td>\n",
       "      <td>29402</td>\n",
       "      <td>26746</td>\n",
       "    </tr>\n",
       "    <tr>\n",
       "      <th>4</th>\n",
       "      <td>2018-01-01T02:00:00</td>\n",
       "      <td>0</td>\n",
       "      <td>28096</td>\n",
       "      <td>26169</td>\n",
       "    </tr>\n",
       "  </tbody>\n",
       "</table>\n",
       "</div>"
      ],
      "text/plain": [
       "              GMT Time Loss of Load Probability - Latest - GB ()  \\\n",
       "0  2018-01-01T00:00:00                                         0   \n",
       "1  2018-01-01T00:30:00                                         0   \n",
       "2  2018-01-01T01:00:00                                         0   \n",
       "3  2018-01-01T01:30:00                                         0   \n",
       "4  2018-01-01T02:00:00                                         0   \n",
       "\n",
       "  Actual Total Load - GB (MW) Demand Outturn (ITSDO) - GB (MW)  \n",
       "0                       30303                            26413  \n",
       "1                       31096                            27130  \n",
       "2                       30599                            27378  \n",
       "3                       29402                            26746  \n",
       "4                       28096                            26169  "
      ]
     },
     "execution_count": 17,
     "metadata": {},
     "output_type": "execute_result"
    }
   ],
   "source": [
    "dem_data = pd.read_csv('data/demand_load_data.csv')\n",
    "dem_data.head()"
   ]
  },
  {
   "cell_type": "code",
   "execution_count": 23,
   "metadata": {},
   "outputs": [
    {
     "name": "stdout",
     "output_type": "stream",
     "text": [
      "<class 'pandas.core.frame.DataFrame'>\n",
      "RangeIndex: 118320 entries, 0 to 118319\n",
      "Data columns (total 11 columns):\n",
      " #   Column                                                                            Non-Null Count   Dtype         \n",
      "---  ------                                                                            --------------   -----         \n",
      " 0   GMT Time                                                                          118320 non-null  datetime64[ns]\n",
      " 1   Actual Aggregated Generation By Type - Biomass - GB (MW)                          118320 non-null  object        \n",
      " 2   Actual Aggregated Generation By Type - Fossil Gas - GB (MW)                       118320 non-null  object        \n",
      " 3   Actual Aggregated Generation By Type - Fossil Hard Coal - GB (MW)                 118320 non-null  object        \n",
      " 4   Actual Aggregated Generation By Type - Fossil Oil - GB (MW)                       118320 non-null  object        \n",
      " 5   Actual Aggregated Generation By Type - Hydro Pumped Storage - GB (MW)             118320 non-null  object        \n",
      " 6   Actual Aggregated Generation By Type - Hydro Run-of-River and Poundage - GB (MW)  118320 non-null  object        \n",
      " 7   Actual Aggregated Generation By Type - Nuclear - GB (MW)                          118320 non-null  object        \n",
      " 8   Actual Aggregated Generation By Type - Solar - GB (MW)                            118320 non-null  object        \n",
      " 9   Actual Aggregated Generation By Type - Wind Onshore - GB (MW)                     118320 non-null  object        \n",
      " 10  Actual Aggregated Generation By Type - Wind Offshore - GB (MW)                    118320 non-null  object        \n",
      "dtypes: datetime64[ns](1), object(10)\n",
      "memory usage: 9.9+ MB\n"
     ]
    }
   ],
   "source": [
    "gen_data = pd.read_csv('data/generation_data.csv')\n",
    "gen_data['GMT Time'] = pd.to_datetime(gen_data['GMT Time'])\n",
    "gen_data.info()"
   ]
  },
  {
   "cell_type": "code",
   "execution_count": 19,
   "metadata": {},
   "outputs": [],
   "source": [
    "price_data = pd.read_csv('data/price_data.csv')"
   ]
  },
  {
   "cell_type": "code",
   "execution_count": null,
   "metadata": {},
   "outputs": [],
   "source": []
  }
 ],
 "metadata": {
  "kernelspec": {
   "display_name": "base",
   "language": "python",
   "name": "python3"
  },
  "language_info": {
   "codemirror_mode": {
    "name": "ipython",
    "version": 3
   },
   "file_extension": ".py",
   "mimetype": "text/x-python",
   "name": "python",
   "nbconvert_exporter": "python",
   "pygments_lexer": "ipython3",
   "version": "3.11.9"
  }
 },
 "nbformat": 4,
 "nbformat_minor": 2
}
